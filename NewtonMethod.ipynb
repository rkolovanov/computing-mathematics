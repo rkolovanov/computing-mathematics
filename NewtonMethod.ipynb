{
 "cells": [
  {
   "cell_type": "code",
   "execution_count": 55,
   "metadata": {},
   "outputs": [],
   "source": [
    "import math\n",
    "import numpy as np\n",
    "import matplotlib.pyplot as plt\n",
    "%matplotlib inline"
   ]
  },
  {
   "cell_type": "code",
   "execution_count": 56,
   "metadata": {},
   "outputs": [],
   "source": [
    "def f(x):\n",
    "    return 7 * x ** 4 - 8 * x ** 3 + math.sin(9 * x)\n",
    "\n",
    "def df(x):\n",
    "    return 28 * x ** 3 - 24 * x ** 2 + 9 * math.cos(9 * x)"
   ]
  },
  {
   "cell_type": "code",
   "execution_count": 57,
   "metadata": {},
   "outputs": [
    {
     "name": "stdout",
     "output_type": "stream",
     "text": [
      "Шаг: x = 0.14976727047746086, f(x) = 0.9519097811653131\n",
      "Шаг: x = -0.4662820090452322, f(x) = 2.011798409415728\n",
      "Шаг: x = -0.30528828569996125, f(x) = -0.0954530909086595\n",
      "Шаг: x = -0.3137027381220775, f(x) = 0.0018392628486104123\n",
      "Шаг: x = -0.31354652726156185, f(x) = 5.942042891060595e-07\n"
     ]
    }
   ],
   "source": [
    "x = 0.5\n",
    "y = f(x)\n",
    "epsilon = 10 ** (-5)\n",
    "\n",
    "while abs(f(x)) > epsilon:\n",
    "    x = x - f(x) / df(x)\n",
    "    y = f(x)\n",
    "    print(\"Шаг: x = {}, f(x) = {}\".format(x, y))\n"
   ]
  },
  {
   "cell_type": "code",
   "execution_count": 58,
   "metadata": {},
   "outputs": [
    {
     "data": {
      "text/plain": [
       "<matplotlib.collections.PathCollection at 0x21729b94190>"
      ]
     },
     "execution_count": 58,
     "metadata": {},
     "output_type": "execute_result"
    },
    {
     "data": {
      "image/png": "[encoded data removed]",
      "text/plain": [
       "<Figure size 432x288 with 1 Axes>"
      ]
     },
     "metadata": {
      "needs_background": "light"
     },
     "output_type": "display_data"
    }
   ],
   "source": [
    "plot_x = np.linspace(-0.5, 1.5, 100)\n",
    "plot_y = 7 * plot_x ** 4 - 8 * plot_x ** 3 + np.sin(9 * plot_x)\n",
    "plt.title(\"y = f(x)\")\n",
    "plt.xlabel(\"x\")\n",
    "plt.ylabel(\"y\")\n",
    "plt.grid()\n",
    "plt.plot(plot_x, plot_y)\n",
    "plt.scatter(x, y, color='red', s=20, marker='o')"
   ]
  },
  {
   "cell_type": "code",
   "execution_count": null,
   "metadata": {},
   "outputs": [],
   "source": []
  }
 ],
 "metadata": {
  "kernelspec": {
   "display_name": "Python 3",
   "language": "python",
   "name": "python3"
  },
  "language_info": {
   "codemirror_mode": {
    "name": "ipython",
    "version": 3
   },
   "file_extension": ".py",
   "mimetype": "text/x-python",
   "name": "python",
   "nbconvert_exporter": "python",
   "pygments_lexer": "ipython3",
   "version": "3.8.3"
  }
 },
 "nbformat": 4,
 "nbformat_minor": 4
}
