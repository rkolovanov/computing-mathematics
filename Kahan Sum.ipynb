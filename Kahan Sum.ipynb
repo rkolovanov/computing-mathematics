{
 "cells": [
  {
   "cell_type": "code",
   "execution_count": 20,
   "metadata": {},
   "outputs": [],
   "source": [
    "import numpy as np"
   ]
  },
  {
   "cell_type": "code",
   "execution_count": 21,
   "metadata": {},
   "outputs": [],
   "source": [
    "def KahanSum(data):\n",
    "    dataSum = 0.0\n",
    "    errorSum = 0.0\n",
    "    \n",
    "    for i in range(len(data)):\n",
    "        y = data[i] - errorSum\n",
    "        t = dataSum + y\n",
    "        errorSum = (t - dataSum) - y\n",
    "        dataSum = t\n",
    "        \n",
    "    return dataSum"
   ]
  },
  {
   "cell_type": "code",
   "execution_count": 22,
   "metadata": {},
   "outputs": [
    {
     "name": "stdout",
     "output_type": "stream",
     "text": [
      "Kahan Sum = 10005.85987, Python Sum = 10005.859869999998\n"
     ]
    }
   ],
   "source": [
    "# Преимущества алгоритма: Позволяет уменьшить вычислительную погрешность по сравнению с наивным подходом.\n",
    "\n",
    "dataList = [10000.0, 3.14159, 2.71828] # Точный результат: 10000.0 + 3.14159 + 2.71828 = 10005.85987\n",
    "\n",
    "print(\"Kahan Sum = {}, Python Sum = {}\".format(KahanSum(dataList), sum(dataList)))"
   ]
  },
  {
   "cell_type": "code",
   "execution_count": 23,
   "metadata": {},
   "outputs": [
    {
     "name": "stdout",
     "output_type": "stream",
     "text": [
      "Kahan Sum = 3.141589999999269, Python Sum = 3.141589999999269\n"
     ]
    }
   ],
   "source": [
    "# Недостаток алгоритма: не гарантирует защиту от потери точности, связанной с наличием в сумме слагаемых с существенно различными порядками.\n",
    "\n",
    "dataList = [10000.0, 3.14159, -10000.0] # Точный результат: 10000.0 + 3.14159 - 10000.0 = 3.14159\n",
    "\n",
    "print(\"Kahan Sum = {}, Python Sum = {}\".format(KahanSum(dataList), sum(dataList)))"
   ]
  },
  {
   "cell_type": "code",
   "execution_count": null,
   "metadata": {},
   "outputs": [],
   "source": []
  }
 ],
 "metadata": {
  "kernelspec": {
   "display_name": "Python 3",
   "language": "python",
   "name": "python3"
  },
  "language_info": {
   "codemirror_mode": {
    "name": "ipython",
    "version": 3
   },
   "file_extension": ".py",
   "mimetype": "text/x-python",
   "name": "python",
   "nbconvert_exporter": "python",
   "pygments_lexer": "ipython3",
   "version": "3.8.3"
  }
 },
 "nbformat": 4,
 "nbformat_minor": 4
}
